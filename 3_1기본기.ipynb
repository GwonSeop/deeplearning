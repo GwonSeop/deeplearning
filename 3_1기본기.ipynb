{
  "cells": [
    {
      "cell_type": "markdown",
      "metadata": {
        "id": "0ZAo5dyEjvL4"
      },
      "source": [
        "# 3.1.1 텐서를 통한 표현\n",
        "- 텐서(Tensor) : 여러 형태를 가질 수 있는 넘파이 배열 "
      ]
    },
    {
      "cell_type": "code",
      "execution_count": 1,
      "metadata": {
        "id": "x4fqBZAjjvL7"
      },
      "outputs": [],
      "source": [
        "import tensorflow as tf\n",
        "import numpy as np"
      ]
    },
    {
      "cell_type": "code",
      "execution_count": 3,
      "metadata": {
        "colab": {
          "base_uri": "https://localhost:8080/"
        },
        "id": "DlzJQo_BjvMA",
        "outputId": "6da899e1-4d27-4bc5-e694-fdf2c8e9c865"
      },
      "outputs": [
        {
          "output_type": "stream",
          "name": "stdout",
          "text": [
            "tf.Tensor(0, shape=(), dtype=int32)\n",
            "tf.Tensor(1, shape=(), dtype=int32)\n",
            "tf.Tensor(2, shape=(), dtype=int32)\n"
          ]
        }
      ],
      "source": [
        "a = tf.constant(2) # 텐서 선언\n",
        "print(tf.rank(a))\n",
        "b = tf.constant([1,2])\n",
        "print(tf.rank(b))\n",
        "c = tf.constant([[1,2],[3,4]])\n",
        "print(tf.rank(c))"
      ]
    },
    {
      "cell_type": "markdown",
      "source": [
        "# 3.1.2 즉시 실행 모드를 통한 연산"
      ],
      "metadata": {
        "id": "i9i6_3jFRYLz"
      }
    },
    {
      "cell_type": "code",
      "source": [
        "# 텐서플로우 2.x의 장점 : 즉시 실행 모드를 통해 쉽게 사용 가능\n",
        "a= tf.constant(3)\n",
        "b= tf.constant(2)\n",
        "print(tf.add(a,b))"
      ],
      "metadata": {
        "colab": {
          "base_uri": "https://localhost:8080/"
        },
        "id": "dHzjUjGOOwF9",
        "outputId": "391d0e10-b4f2-4a20-80eb-560f71a7b315"
      },
      "execution_count": 2,
      "outputs": [
        {
          "output_type": "stream",
          "name": "stdout",
          "text": [
            "tf.Tensor(5, shape=(), dtype=int32)\n"
          ]
        }
      ]
    },
    {
      "cell_type": "code",
      "source": [
        "print(tf.multiply(a,b).numpy())\n",
        "print(tf.divide(a,b).numpy())"
      ],
      "metadata": {
        "colab": {
          "base_uri": "https://localhost:8080/"
        },
        "id": "8nWVq3wlSQE3",
        "outputId": "f31827c9-2ea7-4c93-c7ea-a2c8ea6eed77"
      },
      "execution_count": 4,
      "outputs": [
        {
          "output_type": "stream",
          "name": "stdout",
          "text": [
            "6\n",
            "1.5\n"
          ]
        }
      ]
    },
    {
      "cell_type": "code",
      "source": [
        "c = tf.add(a,b).numpy()\n",
        "c_square = np.square(c, dtype=np.float32) # NumPy 모듈에 존재하는 square 함수 적용\n",
        "c_tensor = tf.convert_to_tensor(c_square) # 다시 텐서로 변환\n",
        "\n",
        "print('numpy:%0.1f, square:%0.1f, tensor:%0.1f' %(c,c_square,c_tensor))"
      ],
      "metadata": {
        "colab": {
          "base_uri": "https://localhost:8080/"
        },
        "id": "Al1panhj_4EH",
        "outputId": "0de46082-0e7c-41fa-ac17-b6d740263a0b"
      },
      "execution_count": 8,
      "outputs": [
        {
          "output_type": "stream",
          "name": "stdout",
          "text": [
            "numpy:5.0, square:25.0, tensor:25.0\n"
          ]
        }
      ]
    },
    {
      "cell_type": "markdown",
      "source": [
        "##3.1.3 @tf.funtion\n",
        "- 파이썬에서 제작된 코드를 텐서플로우의 그래프 형태로 다루고 싶을 때 사용"
      ],
      "metadata": {
        "id": "07KU2nP4Bz2c"
      }
    },
    {
      "cell_type": "code",
      "source": [
        "@tf.function       ## @tf.function << 의 유무로 함수의 형태가 달라짐\n",
        "def square_pos(x):\n",
        "  if x>0:\n",
        "    x = x*x\n",
        "  else:\n",
        "    x =x* -1\n",
        "  return \n",
        "square_pos"
      ],
      "metadata": {
        "colab": {
          "base_uri": "https://localhost:8080/"
        },
        "id": "ufuNIZmuBu2u",
        "outputId": "70532995-4131-478c-f695-766e21ebd4a3"
      },
      "execution_count": 11,
      "outputs": [
        {
          "output_type": "execute_result",
          "data": {
            "text/plain": [
              "<tensorflow.python.eager.def_function.Function at 0x7f1a3cd5d7d0>"
            ]
          },
          "metadata": {},
          "execution_count": 11
        }
      ]
    },
    {
      "cell_type": "markdown",
      "source": [
        "#"
      ],
      "metadata": {
        "id": "HN08O0wACkeB"
      }
    },
    {
      "cell_type": "code",
      "source": [
        ""
      ],
      "metadata": {
        "id": "A4aysMMuBJgP"
      },
      "execution_count": null,
      "outputs": []
    }
  ],
  "metadata": {
    "interpreter": {
      "hash": "2360d80fde758ea7dd0e2497d5965fde9f55eb3045559d45811cfd267df4497a"
    },
    "kernelspec": {
      "display_name": "Python 3.9.5 64-bit (conda)",
      "language": "python",
      "name": "python3"
    },
    "language_info": {
      "codemirror_mode": {
        "name": "ipython",
        "version": 3
      },
      "file_extension": ".py",
      "mimetype": "text/x-python",
      "name": "python",
      "nbconvert_exporter": "python",
      "pygments_lexer": "ipython3",
      "version": "3.9.5"
    },
    "orig_nbformat": 4,
    "colab": {
      "name": "3-1기본기.ipynb",
      "provenance": [],
      "collapsed_sections": []
    }
  },
  "nbformat": 4,
  "nbformat_minor": 0
}