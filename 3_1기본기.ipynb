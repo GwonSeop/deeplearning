{
  "cells": [
    {
      "cell_type": "markdown",
      "metadata": {
        "id": "0ZAo5dyEjvL4"
      },
      "source": [
        "# 3.1.1 텐서를 통한 표현\n",
        "- 텐서(Tensor) : 여러 형태를 가질 수 있는 넘파이 배열 "
      ]
    },
    {
      "cell_type": "code",
      "execution_count": 1,
      "metadata": {
        "id": "x4fqBZAjjvL7"
      },
      "outputs": [],
      "source": [
        "import tensorflow as tf\n",
        "import numpy as np"
      ]
    },
    {
      "cell_type": "code",
      "execution_count": 3,
      "metadata": {
        "colab": {
          "base_uri": "https://localhost:8080/"
        },
        "id": "DlzJQo_BjvMA",
        "outputId": "6da899e1-4d27-4bc5-e694-fdf2c8e9c865"
      },
      "outputs": [
        {
          "output_type": "stream",
          "name": "stdout",
          "text": [
            "tf.Tensor(0, shape=(), dtype=int32)\n",
            "tf.Tensor(1, shape=(), dtype=int32)\n",
            "tf.Tensor(2, shape=(), dtype=int32)\n"
          ]
        }
      ],
      "source": [
        "a = tf.constant(2) # 텐서 선언\n",
        "print(tf.rank(a))\n",
        "b = tf.constant([1,2])\n",
        "print(tf.rank(b))\n",
        "c = tf.constant([[1,2],[3,4]])\n",
        "print(tf.rank(c))"
      ]
    },
    {
      "cell_type": "markdown",
      "source": [
        "# 3.1.2 즉시 실행 모드를 통한 연산"
      ],
      "metadata": {
        "id": "i9i6_3jFRYLz"
      }
    },
    {
      "cell_type": "code",
      "source": [
        ""
      ],
      "metadata": {
        "id": "dHzjUjGOOwF9"
      },
      "execution_count": null,
      "outputs": []
    },
    {
      "cell_type": "code",
      "source": [
        ""
      ],
      "metadata": {
        "id": "8nWVq3wlSQE3"
      },
      "execution_count": null,
      "outputs": []
    }
  ],
  "metadata": {
    "interpreter": {
      "hash": "2360d80fde758ea7dd0e2497d5965fde9f55eb3045559d45811cfd267df4497a"
    },
    "kernelspec": {
      "display_name": "Python 3.9.5 64-bit (conda)",
      "language": "python",
      "name": "python3"
    },
    "language_info": {
      "codemirror_mode": {
        "name": "ipython",
        "version": 3
      },
      "file_extension": ".py",
      "mimetype": "text/x-python",
      "name": "python",
      "nbconvert_exporter": "python",
      "pygments_lexer": "ipython3",
      "version": "3.9.5"
    },
    "orig_nbformat": 4,
    "colab": {
      "name": "3-1기본기.ipynb",
      "provenance": [],
      "collapsed_sections": []
    }
  },
  "nbformat": 4,
  "nbformat_minor": 0
}