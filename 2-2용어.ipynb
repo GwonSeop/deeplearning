{
 "cells": [
  {
   "cell_type": "markdown",
   "metadata": {},
   "source": [
    "# 2-2 용어 살펴보기"
   ]
  },
  {
   "cell_type": "markdown",
   "metadata": {},
   "source": [
    "## 데이터 준비\n",
    "\n",
    "- 클래스 불균형(Class Imbalance)\n",
    "  - 과소표집 : 데이터가 많은 클래스들을 적은 클래스에 맞춰 수를 줄이는 방법\n",
    "    - 유용한 정보 유실 위험\n",
    "  - 과대표집 : 데이터가 적은 클래스들을 많은 클래스에 맞춰 복제하여 수를 늘리는 방법\n",
    "    - 과대적합(over fitting) 문제 위험\n",
    "    - 과대적합을 피하기 위한 -SMOTE- : (Synthetic Minority Over-sampling Technique)\n",
    "- 회귀(Regression) : 여러 특징을 통해 연속적인 숫자로 이루어진 정답을 예측\n",
    "  - 로지스틱 회귀(Logistic Regression) : 0과 1을 예측할 때 사용\n",
    "- 분류(Classification) : 미리 정의 된 여러 클래스 중 하나를 예측\n",
    "  - 이진 분류(Binary Classification) : 두 개의 범주\n",
    "  - 다중 분류(Multi-class Classification) : 세 개 이상의 범주\n",
    "  - 다중 레이블 분류(Multi-label Classification) : 여러 범주 중 다중으로 할당\n",
    "- 원 핫 인코딩 : 범주형 데이터를  0과 1을 사용하여 더미 변수화\n",
    "- 교차 검증 (Cross-Validation) : 모델의 타당성을 검증하는 방법 과대적합으로 생기는 문제를 방지하기 위해 데이터를 크게 세가지로 나누어 사용 \n",
    "  - 학습 데이터 (Train data) : 모델 학습에 사용\n",
    "  - 검증 데이터 (Validation data) : 모델의 검증을 위해 사용하며, 주로 학습 도중에 사용\n",
    "  - 테스트 데이터 (Test data) : 모델의 최종 성능을 평가하는 데 사용 (학습에 사용 x)\n",
    "- K-Fold 교차 검증 : 교차 검증시 데이터를 분리하는 과정에서 데이터 수와 운에 따라 성능이 좌우 될 수 있는 문제를 해결하기 위한 방법\n",
    "  - 학습 데이터를 K개 만큼 나눈 후 하나를 제외한 모든 그룹을 학습 -> 제외한 하나(검증 데이터로써 사용) <여기까지 하나의 폴드>-> K개의 폴드 결과를 평균 내어 최종 성능을 평가\n",
    "- 그외 검증 방법 : 계층적 K-Fold 교차 검증(Stratified K-Fold CV), 임의 분할 교차 검증(shuffle-split CV), 그룹별 교차 검증, LOOCV(Leave-One-Out CV) 등이 존재 "
   ]
  },
  {
   "cell_type": "markdown",
   "metadata": {},
   "source": [
    "## 학습\n",
    "- 하이퍼파라미터(Hyperparameter) : 모델 외적인 요소, 주로 경험에 의해 결정. 대표적으로 학습률, 배치 사이즈, 에폭, 드롭아웃률 등\n",
    "최적의 값을 찾기 위해 다양한 값을 시도하는 것을 하이퍼파라미터 튜닝이라고 함.\n",
    "\n",
    "- 배치와 배치 크기 : 하드웨어의 문제나 속도 문제를 해결하기 위해 배치 학습을 사용. 메모리와 속도의 측면에서 유리. ex) 1000개의 데이터 중 배치가 10, 각 배치당 100개의 데이터를 가지고 있음, 이때 배치의 크기는 100 \n",
    "\n",
    "- 에폭과 스텝 : Epochs은 전체 데이터를 사용하여 학습하는 횟수를 의미. 전체 데이터를 10회 반복하여 학습시킨 것을 10 에폭이라고 함. Step은 모델이 가진 파라미터(또는 가중치)를 1회 업데이트하는 것을 의미 \n",
    "\n",
    "- 지도 학습 : Supervised Learning은 학습 데이터에 정답이 포함된 것을 의미. 대표적으로 회귀와 분류\n",
    "\n",
    "- 비지도 학습 : Unsupervised Learning은 학습데이터에 정답이 포함되어 있지 않는 것을 의미. 여러 햄버거를 종류별로 묶어보라고 하는것. 이를 클러스터링(Clustering)이라고 함. 사진을 주고 모델에게 사진을 그려보라고 하는 것을 생성 모델(Generative Model), 에이전트가 주어진 환경에 대해 어떠한 행동을 결정하고, 이를 통해 얻는 보상으로 학습하는 것을 강화 학습(Reinforcement Learning)이라 함\n",
    "\n",
    "- 과대적합(Overfitting)이란 모델이 학습 데이터에서는 좋은 성능을 보이지만 새로운 데이터에 대해서 좋지 않은 성능을 보이는 것, 모델이 문제를 일반화하지 못하고 외운 상태라고 표현. \n",
    "  - 학습 데이터 보충 \n",
    "  - 정규화(Regularization)를 사용 --> 규칙을 단순화\n",
    "  - 이상치(Outlier) 제거\n",
    "\n",
    "- 과소 적합(Underfitting)은 모델이 학습 데이터를 충분히 학습하지 않아 모든 측면에서 성능이 나쁜 것, 모델이 너무 단순한 경우에 발생.\n",
    "  - 학습 데이터 보충\n",
    "  - 더 복잡한 모델 사용\n",
    "  - 충분한 학습\n",
    "\n"
   ]
  },
  {
   "cell_type": "markdown",
   "metadata": {},
   "source": [
    "## 평가\n",
    "- 혼동행렬 : Confusion Matrix은 주로 알고리즘이나 모델의 성능을 평가할 때 많이 사용\n",
    "  - TP : 맞는 답을 맞았다고 한 경우\n",
    "  - TN : 틀린 답을 틀렸다고 한 경우\n",
    "  - FN : 맞는 답을 틀렸다고 한 경우\n",
    "  - FP : 틀린 답을 맞았다고 한 경우\n",
    "- 정확도 : Accuracy는 자주 사용되며 기본이 되는 지표\n",
    "  - ACC = (TP + TN) / (TP + TN + FP + FN) \n",
    "  - 문제점 : 데이터가 불균형할 때 적절하지 못한 지표가 될 수 있음 ex) 90개의 T 10개의 F 문제에서 T로만 예측해도 90%의 성능을 보임\n",
    "- 정밀도 : Precision는 모델이 True라고 예측한 정답 중 실제로 True인 비율\n",
    "  - 정밀도 =  TP / (TP + FP)\n",
    "- 재현율 : Recall은 실제 데이터가 True인 것 중에서 모델이 True라고 예측한 비율, 민감도 Sensitivity라고도 함\n",
    "  - 재현율 = TP / (TP + FN)\n",
    "- F1-Score : 정밀도와 재현율의 임계치를 잘못 설정하면 극단적인 경우로 향할 수 있는 문제를 방지하기 위한 값\n",
    "  - F1 = 2 x (정밀도 x 재현율) / (정밀도 + 재현율)\n",
    "- 특이도 : Specificity는 모델이 False라고 예측한 정답 중 실제로 False인 비율\n",
    "  - specificity = TN / (FP +TN)\n",
    "- 진짜 양성 비율(True Positive Rate) : TPR은 민감도와 같음\n",
    "- 가짜 양성 비율(False Positive Rate) : FPR(1 - 특이도)은 실제로 False 이지만 True로 잘못 예측한 비율"
   ]
  },
  {
   "cell_type": "code",
   "execution_count": null,
   "metadata": {},
   "outputs": [],
   "source": []
  },
  {
   "cell_type": "markdown",
   "metadata": {},
   "source": []
  },
  {
   "cell_type": "markdown",
   "metadata": {},
   "source": []
  }
 ],
 "metadata": {
  "language_info": {
   "name": "python"
  },
  "orig_nbformat": 4
 },
 "nbformat": 4,
 "nbformat_minor": 2
}
