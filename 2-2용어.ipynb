{
 "cells": [
  {
   "cell_type": "markdown",
   "metadata": {},
   "source": [
    "# 2-2 용어 살펴보기"
   ]
  },
  {
   "cell_type": "markdown",
   "metadata": {},
   "source": [
    "## 데이터 준비\n",
    "\n",
    "- 클래스 불균형(Class Imbalance)\n",
    "  - 과소표집 : 데이터가 많은 클래스들을 적은 클래스에 맞춰 수를 줄이는 방법\n",
    "    - 유용한 정보 유실 위험\n",
    "  - 과대표집 : 데이터가 적은 클래스들을 많은 클래스에 맞춰 복제하여 수를 늘리는 방법\n",
    "    - 과대적합(over fitting) 문제 위험\n",
    "    - 과대적합을 피하기 위한 -SMOTE- : (Synthetic Minority Over-sampling Technique)\n",
    "- 회귀(Regression) : 여러 특징을 통해 연속적인 숫자로 이루어진 정답을 예측\n",
    "  - 로지스틱 회귀(Logistic Regression) : 0과 1을 예측할 때 사용\n",
    "- 분류(Classification) : 미리 정의 된 여러 클래스 중 하나를 예측\n",
    "  - 이진 분류(Binary Classification) : 두 개의 범주\n",
    "  - 다중 분류(Multi-class Classification) : 세 개 이상의 범주\n",
    "  - 다중 레이블 분류(Multi-label Classification) : 여러 범주 중 다중으로 할당\n",
    "- 원 핫 인코딩 : 범주형 데이터를  0과 1을 사용하여 더미 변수화\n",
    "- 교차 검증 (Cross-Validation) : 모델의 타당성을 검증하는 방법 과대적합으로 생기는 문제를 방지하기 위해 데이터를 크게 세가지로 나누어 사용 \n",
    "  - 학습 데이터 (Train data) : 모델 학습에 사용\n",
    "  - 검증 데이터 (Validation data) : 모델의 검증을 위해 사용하며, 주로 학습 도중에 사용\n",
    "  - 테스트 데이터 (Test data) : 모델의 최종 성능을 평가하는 데 사용 (학습에 사용 x)\n",
    "- K-Fold 교차 검증 : 교차 검증시 데이터를 분리하는 과정에서 데이터 수와 운에 따라 성능이 좌우 될 수 있는 문제를 해결하기 위한 방법\n",
    "  - 학습 데이터를 K개 만큼 나눈 후 하나를 제외한 모든 그룹을 학습 -> 제외한 하나(검증 데이터로써 사용) <여기까지 하나의 폴드>-> K개의 폴드 결과를 평균 내어 최종 성능을 평가\n",
    "- 그외 검증 방법 : 계층적 K-Fold 교차 검증(Stratified K-Fold CV), 임의 분할 교차 검증(shuffle-split CV), 그룹별 교차 검증, LOOCV(Leave-One-Out CV) 등이 존재 "
   ]
  },
  {
   "cell_type": "markdown",
   "metadata": {},
   "source": [
    "ㅎ"
   ]
  }
 ],
 "metadata": {
  "language_info": {
   "name": "python"
  },
  "orig_nbformat": 4
 },
 "nbformat": 4,
 "nbformat_minor": 2
}
